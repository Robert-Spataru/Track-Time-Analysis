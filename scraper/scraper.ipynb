{
 "cells": [
  {
   "cell_type": "code",
   "execution_count": 1,
   "metadata": {},
   "outputs": [],
   "source": [
    "#imports\n",
    "from selenium import webdriver\n",
    "from selenium.webdriver.chrome.service import Service\n",
    "from selenium.webdriver.common.by import By\n",
    "from selenium.webdriver.common.action_chains import ActionChains\n",
    "from selenium.webdriver.support.ui import WebDriverWait\n",
    "from selenium.webdriver.support import expected_conditions as EC\n",
    "\n",
    "from my_scraper import *\n",
    "\n",
    "\n"
   ]
  },
  {
   "cell_type": "code",
   "execution_count": 3,
   "metadata": {},
   "outputs": [
    {
     "name": "stdout",
     "output_type": "stream",
     "text": [
      "Actual page URL: https://www.athletic.net/track-and-field-outdoor/usa/high-school/2024\n",
      "Actual page URL: https://www.athletic.net/track-and-field-outdoor/usa/middle-school/2024\n",
      "Actual page URL: https://www.athletic.net/track-and-field-outdoor/usa/club/2024\n",
      "Actual page URL: https://www.athletic.net/track-and-field-outdoor/usa/college/2024\n",
      "Extracted URLs: ['https://www.athletic.net/track-and-field-outdoor/usa/high-school/2024', 'https://www.athletic.net/track-and-field-outdoor/usa/middle-school/2024', 'https://www.athletic.net/track-and-field-outdoor/usa/club/2024', 'https://www.athletic.net/track-and-field-outdoor/usa/college/2024']\n"
     ]
    }
   ],
   "source": [
    "#intialize webdriver\n",
    "driver = webdriver.Chrome()\n",
    "\n",
    "#open main athletic.net url\n",
    "athletic_net_link = \"https://www.athletic.net/\"\n",
    "driver.get(athletic_net_link)\n",
    "\n",
    "# Example usage\n",
    "url_list = extract_dropdown_urls(\n",
    "    driver=driver,\n",
    "    dropdown_button_xpath=\"//button[normalize-space(text())='Track & Field']\",\n",
    "    dropdown_menu_class_name=\"dropdown-menu\",\n",
    "    dropdown_item_class_name=\"dropdown-item\"\n",
    ")\n",
    "\n",
    "print(\"Extracted URLs:\", url_list)"
   ]
  },
  {
   "cell_type": "code",
   "execution_count": 5,
   "metadata": {},
   "outputs": [
    {
     "ename": "AttributeError",
     "evalue": "'NoneType' object has no attribute 'find_all'",
     "output_type": "error",
     "traceback": [
      "\u001b[0;31m---------------------------------------------------------------------------\u001b[0m",
      "\u001b[0;31mAttributeError\u001b[0m                            Traceback (most recent call last)",
      "Cell \u001b[0;32mIn[5], line 7\u001b[0m\n\u001b[1;32m      4\u001b[0m high_school_link \u001b[38;5;241m=\u001b[39m url_list[\u001b[38;5;241m0\u001b[39m]  \u001b[38;5;66;03m# Assuming url_list[0] contains the high school link\u001b[39;00m\n\u001b[1;32m      6\u001b[0m \u001b[38;5;66;03m# Extract the state links for high school using BeautifulSoup version of `extract_links_by_state`\u001b[39;00m\n\u001b[0;32m----> 7\u001b[0m high_school_links \u001b[38;5;241m=\u001b[39m \u001b[43mextract_links_by_state\u001b[49m\u001b[43m(\u001b[49m\u001b[43mhigh_school_link\u001b[49m\u001b[43m)\u001b[49m\n\u001b[1;32m      9\u001b[0m \u001b[38;5;66;03m# Print the result\u001b[39;00m\n\u001b[1;32m     10\u001b[0m \u001b[38;5;28mprint\u001b[39m(\u001b[38;5;124m\"\u001b[39m\u001b[38;5;124mHigh School Links:\u001b[39m\u001b[38;5;124m\"\u001b[39m, high_school_links)\n",
      "File \u001b[0;32m~/Portfolio-Projects/track_analysis/scraper/my_scraper.py:85\u001b[0m, in \u001b[0;36mextract_links_by_state\u001b[0;34m(page_url, main_div_class, state_div_class)\u001b[0m\n\u001b[1;32m     83\u001b[0m \u001b[38;5;66;03m# Find the main div and state divs\u001b[39;00m\n\u001b[1;32m     84\u001b[0m main_div \u001b[38;5;241m=\u001b[39m soup\u001b[38;5;241m.\u001b[39mfind(\u001b[38;5;124m'\u001b[39m\u001b[38;5;124mdiv\u001b[39m\u001b[38;5;124m'\u001b[39m, class_\u001b[38;5;241m=\u001b[39mmain_div_class)\n\u001b[0;32m---> 85\u001b[0m state_divs \u001b[38;5;241m=\u001b[39m \u001b[43mmain_div\u001b[49m\u001b[38;5;241;43m.\u001b[39;49m\u001b[43mfind_all\u001b[49m(\u001b[38;5;124m'\u001b[39m\u001b[38;5;124mdiv\u001b[39m\u001b[38;5;124m'\u001b[39m, class_\u001b[38;5;241m=\u001b[39mstate_div_class)\n\u001b[1;32m     87\u001b[0m \u001b[38;5;66;03m# Initialize dictionary to store links by state\u001b[39;00m\n\u001b[1;32m     88\u001b[0m links_by_state \u001b[38;5;241m=\u001b[39m {}\n",
      "\u001b[0;31mAttributeError\u001b[0m: 'NoneType' object has no attribute 'find_all'"
     ]
    }
   ],
   "source": [
    "\n",
    "url_list = ['https://www.athletic.net/track-and-field-outdoor/usa/high-school/2024', 'https://www.athletic.net/track-and-field-outdoor/usa/middle-school/2024', 'https://www.athletic.net/track-and-field-outdoor/usa/club/2024', 'https://www.athletic.net/track-and-field-outdoor/usa/college/2024']\n",
    "\n",
    "# URL for the high school page (replace `url_list[0]` with the actual URL if needed)\n",
    "high_school_link = url_list[0]  # Assuming url_list[0] contains the high school link\n",
    "\n",
    "# Extract the state links for high school using BeautifulSoup version of `extract_links_by_state`\n",
    "high_school_links = extract_links_by_state(high_school_link)\n",
    "\n",
    "# Print the result\n",
    "print(\"High School Links:\", high_school_links)\n",
    "\n",
    "# Extract the meet links for each state using BeautifulSoup version of `extract_meets_by_state`\n",
    "meets_by_state = extract_meets_by_state(high_school_links)\n",
    "\n",
    "# Print the meet links for Alabama\n",
    "print(meets_by_state[\"Alabama\"])\n",
    "\n",
    "# Extract the event links for each meet using BeautifulSoup version of `extract_event_links`\n",
    "events_by_meet_by_state_dict = extract_event_links(meets_by_state)\n",
    "\n",
    "# Print the event links for Alabama\n",
    "print(events_by_meet_by_state_dict[\"Alabama\"])\n"
   ]
  },
  {
   "cell_type": "code",
   "execution_count": null,
   "metadata": {},
   "outputs": [],
   "source": [
    "#extract and store relevant data into pandas data table\n",
    "import pandas as pd\n"
   ]
  },
  {
   "cell_type": "code",
   "execution_count": null,
   "metadata": {},
   "outputs": [],
   "source": [
    "#loop from 2005 to 2024 to get meet links"
   ]
  }
 ],
 "metadata": {
  "kernelspec": {
   "display_name": "ml_env",
   "language": "python",
   "name": "python3"
  },
  "language_info": {
   "codemirror_mode": {
    "name": "ipython",
    "version": 3
   },
   "file_extension": ".py",
   "mimetype": "text/x-python",
   "name": "python",
   "nbconvert_exporter": "python",
   "pygments_lexer": "ipython3",
   "version": "3.11.10"
  }
 },
 "nbformat": 4,
 "nbformat_minor": 2
}
