{
 "cells": [
  {
   "cell_type": "code",
   "execution_count": null,
   "metadata": {},
   "outputs": [],
   "source": [
    "#imports\n",
    "from selenium import webdriver\n",
    "from selenium.webdriver.common.by import By\n",
    "from selenium.webdriver.common.action_chains import ActionChains\n",
    "from selenium.webdriver.support.ui import WebDriverWait\n",
    "from selenium.webdriver.support import expected_conditions as EC\n",
    "\n",
    "#generic and reusable Selenium helper methods\n",
    "class SeleniumHelper:\n",
    "    def __init__(self, browser='chrome', implicit_wait=10):\n",
    "        self.driver = self._setup_driver(browser)\n",
    "        self.driver.implicitly_wait(implicit_wait)\n",
    "        \n",
    "    def _setup_driver(self, browser):\n",
    "        if browser.lower() == 'chrome':\n",
    "            driver = webdriver.Chrome()\n",
    "        elif browser.lower() == 'firefox':\n",
    "            driver = webdriver.Firefox()\n",
    "        else:\n",
    "            raise ValueError(\"Only 'chrome' and 'firefox' browsers are supported.\")\n",
    "        return driver\n",
    "    \n",
    "    def go_to(self, url):\n",
    "     self.driver.get(url)\n",
    "    \n",
    "    def click_element(self, by, value):\n",
    "        element = WebDriverWait(self.driver, 10).until(EC.element_to_be_clickable((by, value)))\n",
    "        element.click()\n",
    "  \n",
    "    def get_element_text(self, by, value):\n",
    "        element = self.driver.find_element(by, value)\n",
    "        return element.text\n",
    "    \n",
    "    def get_all_links(self, by=By.TAG_NAME, value=\"a\"):\n",
    "        elements = self.driver.find_elements(by, value)\n",
    "        links = [element.get_attribute('href') for element in elements if element.get_attribute('href')]\n",
    "        return links\n",
    "      \n",
    "    def get_elemetns_text(self, by, value):\n",
    "        elements = self.driver.find_elements(by, value)\n",
    "        return [element.text for element in elements]\n",
    "    \n",
    "    def send_keys(self, by, value, keys):\n",
    "        element = self.driver.find_element(by, value)\n",
    "        element.clear()\n",
    "        element.send_keys(keys)\n",
    "    \n",
    "    def hover_over_element(self, by, value):\n",
    "        element = self.driver.find_element(by, value)\n",
    "        ActionChains(self.driver).move_to_element(element).perform()\n",
    "    \n",
    "    def quit(self):\n",
    "        self.driver.quit()\n",
    "    "
   ]
  },
  {
   "cell_type": "code",
   "execution_count": null,
   "metadata": {},
   "outputs": [],
   "source": [
    "#features stored in lists\n",
    "STATES = [\n",
    "    'Alabama', 'Alaska', 'Arizona', 'Arkansas', 'California', 'Colorado', \n",
    "    'Connecticut', 'Delaware', 'District of Columbia', 'Florida', 'Georgia', \n",
    "    'Hawaii', 'Idaho', 'Illinois', 'Indiana', 'Iowa', 'Kansas', 'Kentucky', \n",
    "    'Louisiana', 'Maine', 'Maryland', 'Massachusetts', 'Michigan', 'Minnesota', \n",
    "    'Mississippi', 'Missouri', 'Montana', 'Nebraska', 'Nevada', \n",
    "    'New Hampshire', 'New Jersey', 'New Mexico', 'New York', 'North Carolina', \n",
    "    'North Dakota', 'Ohio', 'Oklahoma', 'Oregon', 'Pennsylvania', 'Rhode Island', \n",
    "    'South Carolina', 'South Dakota', 'Tennessee', 'Texas', 'Utah', 'Vermont', \n",
    "    'Virginia', 'Washington', 'West Virginia', 'Wisconsin', 'Wyoming'\n",
    "]\n",
    "DIVISIONS = ['Clubs', 'Middle School', 'High School', 'College']\n",
    "YEARS = list(range(2006, 2025))\n",
    "GENDERS = ['Boys', 'Girls']\n",
    "EVENTS = {\n",
    "    \"Outdoor Track\": {\n",
    "        '100 Meters', '200 Meters', '400 Meters'\n",
    "    }\n",
    "}\n",
    "AGES = list(range(3, 52)) + [53, 54, 55, 56, 61, 69, 90, 98]\n"
   ]
  },
  {
   "cell_type": "code",
   "execution_count": null,
   "metadata": {},
   "outputs": [],
   "source": [
    "\"\"\"\n",
    "Data Intake Strategy:\n",
    "1. Loop through every state for the high school, middle school, \n",
    "club, and college divisions and extract link for individual states\n",
    "2. Click on individual states, loop through years from 2006-2024\n",
    "and extract links for each year\n",
    "3. For each link for each year, extract the links for first 3 unique \n",
    "meets from \"Top XXXX Outdoor Meets\" (top 7 most popular meets)\n",
    "4. For the each outdoor meet, loop extract any of the links for results\n",
    "that have 100, 200, or 400 in it.\n",
    "5. For each unique sprinter (check if school name and\n",
    "personal name already exist for given year), add corresponding \n",
    "data into a list\n",
    "\n",
    "5. Store the time and year for each entry\n",
    "and put into dictionary with state as primary key,\n",
    "then event as another subkey, then year as another subkey,\n",
    "and then a list consisting of times\n",
    "\"\"\"\n",
    "\"\"\"\n",
    "Data Taking In (#data_number:{dict_of_data}):\n",
    "First Name and Last Name (unique personal and school name)\n",
    "School Name (unique personal and school name)\n",
    "Year/Grade Level\n",
    "State \n",
    "Personal Best PB (calculated based on times)\n",
    "Dictionary of Lists of Times\n",
    "    Event\n",
    "        Date\n",
    "        Time/Result    \n",
    "\"\"\"\n",
    "\n",
    "#extracting information from athletic.net links\n",
    "athletic_net_high_school = \"https://www.athletic.net/track-and-field-outdoor/usa/high-school/2024\"\n",
    "athletic_net_middle_school = \"https://www.athletic.net/track-and-field-outdoor/usa/middle-school/2024\"\n",
    "athletic_net_clubs = \"https://www.athletic.net/track-and-field-outdoor/usa/club/2024\"\n",
    "athletic_net_college = \"https://www.athletic.net/track-and-field-outdoor/usa/college/2024\"\n",
    "\n",
    "athletic_net_links = []\n",
    "\n",
    "dropdown_items = driver.find_elements(By.CSS_SELECTOR, \".dropdown-menu .dropdown-item\")"
   ]
  },
  {
   "cell_type": "code",
   "execution_count": null,
   "metadata": {},
   "outputs": [],
   "source": [
    "#high school\n"
   ]
  },
  {
   "cell_type": "code",
   "execution_count": null,
   "metadata": {},
   "outputs": [],
   "source": [
    "#middle school\n"
   ]
  },
  {
   "cell_type": "code",
   "execution_count": null,
   "metadata": {},
   "outputs": [],
   "source": [
    "#clubs\n"
   ]
  },
  {
   "cell_type": "code",
   "execution_count": null,
   "metadata": {},
   "outputs": [],
   "source": [
    "#college\n"
   ]
  }
 ],
 "metadata": {
  "kernelspec": {
   "display_name": "ml_env",
   "language": "python",
   "name": "python3"
  },
  "language_info": {
   "codemirror_mode": {
    "name": "ipython",
    "version": 3
   },
   "file_extension": ".py",
   "mimetype": "text/x-python",
   "name": "python",
   "nbconvert_exporter": "python",
   "pygments_lexer": "ipython3",
   "version": "3.11.10"
  }
 },
 "nbformat": 4,
 "nbformat_minor": 2
}
